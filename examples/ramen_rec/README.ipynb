{
 "cells": [
  {
   "cell_type": "markdown",
   "source": [
    "\n",
    "Data source: https://www.kaggle.com/residentmario/ramen-ratings\n",
    "\n",
    "This is a toy example using the explainable recommender framework to recommend ramen products.\n",
    "\n",
    "To run the toy example, run a command of the following forms\n",
    "- python -m examples.ramen_rec RAMEN \\<ramen_uri\\>\n",
    "- python -m examples.ramen_rec EATER \\<ramen_eater_uri\\m>\n",
    "where <uri> is either a ramen URI or a ramen eater (user) URI.\n",
    "\n",
    "Ramen URIs are of the form http://www.frex.com/examples/ramen/1 . There is currently only one ramen eater in the data (http://www.frex.com/examples/USR01).\n",
    "\n",
    "Calling examples.ramen_rec with the RAMEN argument will give recommendations for other ramens that are similar to the input ramen uri.\n",
    "\n",
    "Calling examples.ramen_rec with the EATER argument will give ramen recommendations for the input ramen eater. \n",
    "\n",
    "The similarity and ranking metrics used in the toy example are fairly arbitrary. Since there is no real user data to apply, this toy example uses some very basic content-based filtering and ranking strategies. "
   ],
   "metadata": {
    "collapsed": false
   }
  },
  {
   "cell_type": "markdown",
   "source": [
    "A basic run example of the toy example is shown below for your convenience."
   ],
   "metadata": {
    "collapsed": false
   }
  },
  {
   "cell_type": "code",
   "execution_count": 8,
   "outputs": [
    {
     "name": "stdout",
     "text": [
      "Demo retrieve 'recommendations' for ramens eater http://www.frex.com/examples/USR01\n",
      "Target ramen eater content: \n",
      "{\"uri\": \"http://www.frex.com/examples/USR01\", \"likes_ramen_from\": \"Taiwan\", \"likes_ramen_brand\": \"Maruchan\", \"likes_ramen_style\": \"Pack\", \"prohibit_ramen_from\": \"USA\", \"favorite_ramen_uris\": [\"http://www.frex.com/examples/ramen/1011\", \"http://www.frex.com/examples/ramen/101\"]}\n",
      "\n",
      "Retrieving top 5 recommended ramens using demo pipeline...\n",
      "\n",
      "Top 5 Ramens and the explanations applied:\n",
      "--\n",
      "{\"uri\": \"http://www.frex.com/examples/ramen/2477\", \"label\": \"Sichuan Spices Flavor Noodle\", \"brand\": \"Kiki Noodle\", \"country\": \"Taiwan\", \"style\": \"Pack\", \"rating\": 5.0}\n",
      "Scores -- Explanations:\n",
      "Score  0.0 -- This ramen is identified as being similar to all of the user's favorite ramens.\n",
      "Score  0.0 -- This ramen is not from a country that is prohibited by the eater.\n",
      "Score  1.0 -- This ramen has a high rating score.\n",
      "Score  0.0 -- This ramen is from not a brand that the user likes.\n",
      "Score  1.1 -- This ramen is a style that the user likes.\n",
      "Score  1.0 -- This ramen is from a country that the user likes.\n",
      "--\n",
      "{\"uri\": \"http://www.frex.com/examples/ramen/2312\", \"label\": \"Traditional Shallot & Onion Oil Noodle\", \"brand\": \"Xiao Ban Mian\", \"country\": \"Taiwan\", \"style\": \"Pack\", \"rating\": 5.0}\n",
      "Scores -- Explanations:\n",
      "Score  0.0 -- This ramen is identified as being similar to all of the user's favorite ramens.\n",
      "Score  0.0 -- This ramen is not from a country that is prohibited by the eater.\n",
      "Score  1.0 -- This ramen has a high rating score.\n",
      "Score  0.0 -- This ramen is from not a brand that the user likes.\n",
      "Score  1.1 -- This ramen is a style that the user likes.\n",
      "Score  1.0 -- This ramen is from a country that the user likes.\n",
      "--\n",
      "{\"uri\": \"http://www.frex.com/examples/ramen/2421\", \"label\": \"Baseball Snack Noodle\", \"brand\": \"Uni-President\", \"country\": \"Taiwan\", \"style\": \"Pack\", \"rating\": 5.0}\n",
      "Scores -- Explanations:\n",
      "Score  0.0 -- This ramen is identified as being similar to all of the user's favorite ramens.\n",
      "Score  0.0 -- This ramen is not from a country that is prohibited by the eater.\n",
      "Score  1.0 -- This ramen has a high rating score.\n",
      "Score  0.0 -- This ramen is from not a brand that the user likes.\n",
      "Score  1.1 -- This ramen is a style that the user likes.\n",
      "Score  1.0 -- This ramen is from a country that the user likes.\n",
      "--\n",
      "{\"uri\": \"http://www.frex.com/examples/ramen/2512\", \"label\": \"Dan Dan Noodle\", \"brand\": \"Mom's Dry Noodle\", \"country\": \"Taiwan\", \"style\": \"Pack\", \"rating\": 5.0}\n",
      "Scores -- Explanations:\n",
      "Score  0.0 -- This ramen is identified as being similar to all of the user's favorite ramens.\n",
      "Score  0.0 -- This ramen is not from a country that is prohibited by the eater.\n",
      "Score  1.0 -- This ramen has a high rating score.\n",
      "Score  0.0 -- This ramen is from not a brand that the user likes.\n",
      "Score  1.1 -- This ramen is a style that the user likes.\n",
      "Score  1.0 -- This ramen is from a country that the user likes.\n",
      "--\n",
      "{\"uri\": \"http://www.frex.com/examples/ramen/2260\", \"label\": \"Science Noodle (X'Mas Edition)\", \"brand\": \"Uni-President\", \"country\": \"Taiwan\", \"style\": \"Pack\", \"rating\": 5.0}\n",
      "Scores -- Explanations:\n",
      "Score  0.0 -- This ramen is identified as being similar to all of the user's favorite ramens.\n",
      "Score  0.0 -- This ramen is not from a country that is prohibited by the eater.\n",
      "Score  1.0 -- This ramen has a high rating score.\n",
      "Score  0.0 -- This ramen is from not a brand that the user likes.\n",
      "Score  1.1 -- This ramen is a style that the user likes.\n",
      "Score  1.0 -- This ramen is from a country that the user likes.\n"
     ],
     "output_type": "stream"
    }
   ],
   "source": [
    "from examples.ramen_rec.__main__ import run_example\n",
    "\n",
    "# equivalently, in the terminal from the root directory for ExplainableRecommenderFramework, run\n",
    "# python -m examples.ramen_rec EATER http://www.frex.com/examples/USR01\n",
    "run_example(['EATER', 'http://www.frex.com/examples/USR01'])"
   ],
   "metadata": {
    "collapsed": false,
    "pycharm": {
     "name": "#%%\n",
     "is_executing": false
    }
   }
  },
  {
   "cell_type": "code",
   "execution_count": 9,
   "outputs": [
    {
     "name": "stdout",
     "text": [
      "Demo retrieve 'recommendations' for ramens similar to http://www.frex.com/examples/ramen/1\n",
      "Target ramen content: \n",
      "{\"uri\": \"http://www.frex.com/examples/ramen/1\", \"label\": \"Miso Ramen\", \"brand\": \"Westbrae\", \"country\": \"USA\", \"style\": \"Pack\", \"rating\": 0.5}\n",
      "\n",
      "Retrieving top 5 recommended ramens using demo pipeline...\n",
      "\n",
      "Top 5 Ramens and the explanations applied:\n",
      "--\n",
      "{\"uri\": \"http://www.frex.com/examples/ramen/2569\", \"label\": \"Yokohama Tonkotsu Shoyu\", \"brand\": \"Yamachan\", \"country\": \"USA\", \"style\": \"Pack\", \"rating\": 5.0}\n",
      "Scores -- Explanations:\n",
      "Score  0.0 -- This ramen is identified as being similar to the target ramen.\n",
      "Score  0.0 -- This ramen is from a different brand than the target ramen.\n",
      "Score  1.0 -- This ramen has a high rating score.\n",
      "Score  1.0 -- This ramen is the same style as the target ramen.\n",
      "--\n",
      "{\"uri\": \"http://www.frex.com/examples/ramen/2563\", \"label\": \"Tokyo Shoyu Ramen\", \"brand\": \"Yamachan\", \"country\": \"USA\", \"style\": \"Pack\", \"rating\": 5.0}\n",
      "Scores -- Explanations:\n",
      "Score  0.0 -- This ramen is identified as being similar to the target ramen.\n",
      "Score  0.0 -- This ramen is from a different brand than the target ramen.\n",
      "Score  1.0 -- This ramen has a high rating score.\n",
      "Score  1.0 -- This ramen is the same style as the target ramen.\n",
      "--\n",
      "{\"uri\": \"http://www.frex.com/examples/ramen/2559\", \"label\": \"Beef Ramen\", \"brand\": \"Jackpot Teriyaki\", \"country\": \"USA\", \"style\": \"Pack\", \"rating\": 5.0}\n",
      "Scores -- Explanations:\n",
      "Score  0.0 -- This ramen is identified as being similar to the target ramen.\n",
      "Score  0.0 -- This ramen is from a different brand than the target ramen.\n",
      "Score  1.0 -- This ramen has a high rating score.\n",
      "Score  1.0 -- This ramen is the same style as the target ramen.\n",
      "--\n",
      "{\"uri\": \"http://www.frex.com/examples/ramen/2064\", \"label\": \"Arrabiata Rice Bucatini\", \"brand\": \"Nongshim\", \"country\": \"USA\", \"style\": \"Pack\", \"rating\": 5.0}\n",
      "Scores -- Explanations:\n",
      "Score  0.0 -- This ramen is identified as being similar to the target ramen.\n",
      "Score  0.0 -- This ramen is from a different brand than the target ramen.\n",
      "Score  1.0 -- This ramen has a high rating score.\n",
      "Score  1.0 -- This ramen is the same style as the target ramen.\n",
      "--\n",
      "{\"uri\": \"http://www.frex.com/examples/ramen/1875\", \"label\": \"Tonkotsu Ramen Artificially Flavored Tonkotsu White Chicken Broth\", \"brand\": \"Sapporo Ichiban\", \"country\": \"USA\", \"style\": \"Pack\", \"rating\": 5.0}\n",
      "Scores -- Explanations:\n",
      "Score  0.0 -- This ramen is identified as being similar to the target ramen.\n",
      "Score  0.0 -- This ramen is from a different brand than the target ramen.\n",
      "Score  1.0 -- This ramen has a high rating score.\n",
      "Score  1.0 -- This ramen is the same style as the target ramen.\n"
     ],
     "output_type": "stream"
    }
   ],
   "source": [
    "# equivalently, in the terminal from the root directory for ExplainableRecommenderFramework, run\n",
    "# python -m examples.ramen_rec RAMEN http://www.frex.com/examples/ramen/1\n",
    "run_example(['RAMEN', 'http://www.frex.com/examples/ramen/1'])\n",
    "\n"
   ],
   "metadata": {
    "collapsed": false,
    "pycharm": {
     "name": "#%%\n",
     "is_executing": false
    }
   }
  }
 ],
 "metadata": {
  "kernelspec": {
   "display_name": "Python 3",
   "language": "python",
   "name": "python3"
  },
  "language_info": {
   "codemirror_mode": {
    "name": "ipython",
    "version": 2
   },
   "file_extension": ".py",
   "mimetype": "text/x-python",
   "name": "python",
   "nbconvert_exporter": "python",
   "pygments_lexer": "ipython2",
   "version": "2.7.6"
  },
  "pycharm": {
   "stem_cell": {
    "cell_type": "raw",
    "source": [],
    "metadata": {
     "collapsed": false
    }
   }
  }
 },
 "nbformat": 4,
 "nbformat_minor": 0
}